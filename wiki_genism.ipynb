{
 "cells": [
  {
   "cell_type": "code",
   "execution_count": null,
   "id": "c6b92523",
   "metadata": {},
   "outputs": [],
   "source": [
    "import bz2\n",
    "import re\n",
    "import json\n",
    "import opencc\n",
    "import codecs\n",
    "from gensim.corpora.wikicorpus import extract_pages, filter_wiki\n",
    "from tqdm import tqdm\n",
    "\n",
    "# 最大文章数（根据需求随意更改）\n",
    "MAX_ARTICLES = 1000\n",
    "\n",
    "# OpenCC 繁转简转换器\n",
    "cc = opencc.OpenCC('t2s')\n",
    "\n",
    "def wiki_replace(d):\n",
    "    \"\"\"清理 Wikipedia 文章文本\"\"\"\n",
    "    title, text, _ = d  # 提取 (标题, 正文, ID)\n",
    "\n",
    "    text = re.sub(r':*{\\|[\\s\\S]*?\\|}', '', text)\n",
    "    text = re.sub(r'<gallery>[\\s\\S]*?</gallery>', '', text)\n",
    "    text = re.sub(r'(.){{([^{}\\n]*?\\|[^{}\\n]*?)}}', r'\\1[[\\2]]', text)\n",
    "    text = filter_wiki(text)\n",
    "    text = re.sub(r'\\* *\\n|\\'{2,}', '', text)\n",
    "    text = re.sub(r'\\n+', '\\n', text)\n",
    "    text = re.sub(r'\\n[:;]|\\n +', '\\n', text)\n",
    "    text = re.sub(r'\\n==', r'\\n\\n==', text)\n",
    "\n",
    "    return {\n",
    "        \"text\": cc.convert(text).strip(),\n",
    "        \"meta\": {\"title\": cc.convert(title)}  \n",
    "    }\n",
    "\n",
    "\n",
    "output_file = \"wiki_genism.jsonl\"\n",
    "\n",
    "\n",
    "with codecs.open(output_file, 'w', encoding='utf-8') as f:\n",
    "    i = 0\n",
    "    for d in tqdm(extract_pages(bz2.open('zhwiki-20250201-pages-articles-multistream.xml.bz2', 'rt', encoding='utf-8')), \n",
    "                  desc=\"已获取 0 篇文章\", total=MAX_ARTICLES):\n",
    "        if i >= MAX_ARTICLES:\n",
    "            break  \n",
    "\n",
    "        if not re.findall(r'^[a-zA-Z]+:', d[0]) and d[0] and not re.findall(r'^#', d[1]):\n",
    "            json.dump(wiki_replace(d), f, ensure_ascii=False)\n",
    "            f.write('\\n')  \n",
    "            i += 1\n",
    "            tqdm.write(f\"已获取 {i} 篇文章\")\n",
    "\n",
    "print(f\"共提取 {i} 篇文章，存储在 {output_file}\")"
   ]
  }
 ],
 "metadata": {
  "kernelspec": {
   "display_name": "Python 3 (ipykernel)",
   "language": "python",
   "name": "python3"
  },
  "language_info": {
   "codemirror_mode": {
    "name": "ipython",
    "version": 3
   },
   "file_extension": ".py",
   "mimetype": "text/x-python",
   "name": "python",
   "nbconvert_exporter": "python",
   "pygments_lexer": "ipython3",
   "version": "3.8.15"
  }
 },
 "nbformat": 4,
 "nbformat_minor": 5
}
